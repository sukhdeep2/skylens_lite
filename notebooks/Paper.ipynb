{
 "cells": [
  {
   "cell_type": "code",
   "execution_count": 1,
   "metadata": {},
   "outputs": [
    {
     "name": "stderr",
     "output_type": "stream",
     "text": [
      "WARNING:absl:No GPU/TPU found, falling back to CPU. (Set TF_CPP_MIN_LOG_LEVEL=0 and rerun for more info.)\n"
     ]
    },
    {
     "name": "stdout",
     "output_type": "stream",
     "text": [
      "Start_client: No scheduler file, will start local cluster at  ./temp_skylens/pid2577524/\n"
     ]
    },
    {
     "name": "stderr",
     "output_type": "stream",
     "text": [
      "/hildafs/projects/phy200017p/andypark/.conda/envs/skylite/lib/python3.9/site-packages/distributed/node.py:183: UserWarning: Port 8811 is already in use.\n",
      "Perhaps you already have a cluster running?\n",
      "Hosting the HTTP server on port 34613 instead\n",
      "  warnings.warn(\n",
      "/hildafs/home/andypark/.conda/envs/skylens/lib/python3.9/contextlib.py:126: UserWarning: Creating scratch directories is taking a surprisingly long time. (100.01s) This is often due to running workers on a network file system. Consider specifying a local-directory to point workers to write scratch data to a local disk.\n",
      "  next(self.gen)\n"
     ]
    }
   ],
   "source": [
    "from imaster_paper_args import *"
   ]
  },
  {
   "cell_type": "code",
   "execution_count": 2,
   "metadata": {},
   "outputs": [],
   "source": [
    "from astropy.io import fits\n",
    "import os\n",
    "import glob\n",
    "import itertools\n",
    "from tqdm import tqdm\n",
    "import numpy as np\n",
    "import matplotlib.pyplot as plt\n",
    "import pyhalofit\n",
    "import pandas as pd\n",
    "import matplotlib.transforms as transforms\n",
    "from matplotlib.ticker import MultipleLocator, FormatStrFormatter\n",
    "from matplotlib import ticker\n",
    "from matplotlib import colors\n",
    "import healpy as hp\n",
    "\n",
    "import sys\n",
    "sys.path.insert(0, '../skylens')\n",
    "sys.path.insert(0, '../hscy1/3_meas_vs_theory')\n",
    "from wl.ximod import *\n",
    "import correction\n",
    "import treecorr\n",
    "import pyccl\n",
    "import warnings\n",
    "warnings.filterwarnings('ignore')\n",
    "\n",
    "full_sky = 4 * np.pi * (180 / np.pi) ** 2\n",
    "f_sky = 137. / (full_sky)\n",
    "fid = 0.82 * np.sqrt((0.233+0.046)/0.3)\n",
    "ntomo = 4\n",
    "npair = ntomo * (ntomo + 1) // 2"
   ]
  },
  {
   "cell_type": "code",
   "execution_count": 3,
   "metadata": {},
   "outputs": [],
   "source": [
    "def plot_scatter(s8_min_f, s8_min_r, labels=None, ret=False):\n",
    "    fid = 0.82 * np.sqrt(0.279 / 0.3)\n",
    "    majorLocator = MultipleLocator(0.05)\n",
    "    majorFormatter = FormatStrFormatter('%g')\n",
    "    minorLocator = MultipleLocator(0.01)\n",
    "\n",
    "    fig = plt.figure(figsize=(20, 8))\n",
    "    ax = fig.add_subplot(121)\n",
    "    if len(s8_min_f) == 1:\n",
    "        ax.scatter(s8_min_f[0], s8_min_r[0],\n",
    "                   marker='x', linewidths=1.1, label=labels[0], c='k')\n",
    "    else:\n",
    "        for i, z in enumerate(zip(s8_min_f, s8_min_r)):\n",
    "            ax.scatter(z[0], z[1],\n",
    "                       marker='x', linewidths=1.1, label=labels[i], c=f'C{i+1}')\n",
    "    ax.scatter(fid, fid,\n",
    "               marker='+', c='r', s=300, linewidths=1.3, label=r'input $S_8$')\n",
    "    ax.set_ylim(0.7, 0.88)\n",
    "    ax.set_xlim(0.7, 0.88)\n",
    "    ax.plot([0, 1], [0, 1], transform=ax.transAxes, c='gray', ls='--')\n",
    "    ax.yaxis.set_ticks_position('both')\n",
    "    ax.xaxis.set_ticks_position('both')\n",
    "    ax.xaxis.set_major_locator(majorLocator)\n",
    "    ax.xaxis.set_major_formatter(majorFormatter)\n",
    "    ax.xaxis.set_minor_locator(minorLocator)\n",
    "    ax.yaxis.set_major_locator(majorLocator)\n",
    "    ax.yaxis.set_major_formatter(majorFormatter)\n",
    "    ax.yaxis.set_minor_locator(minorLocator)\n",
    "    ax.tick_params(axis='both', which='major', direction='in', \n",
    "                   length=16, width=1.1, labelsize=16, pad=10)\n",
    "    ax.tick_params(axis='both', which='minor', direction='in',\n",
    "                   length=9, width=1.05)\n",
    "    ax.set_xlabel(r'$\\mathrm{S}_8~$(PS)', fontsize=16)\n",
    "    ax.set_ylabel(r'$\\mathrm{S}_8~$(TPCF$\\to$PS)', fontsize=16)\n",
    "    for axis in ['top', 'bottom', 'left', 'right']:\n",
    "        ax.spines[axis].set_linewidth(1.3)\n",
    "    legend = ax.legend(loc='upper left', fontsize=16, frameon=False)\n",
    "    for handle, text in zip(legend.legendHandles, legend.get_texts()):\n",
    "        text.set_color(handle.get_facecolor()[0])\n",
    "\n",
    "    ax2 = fig.add_subplot(122)\n",
    "    ax2.hist(s8_min_f[0], alpha=0.6, density=True, color='C0', histtype='step', label=r'$\\mathrm{S}_8~$(PS)')\n",
    "    ax2.axvline(np.nanmean(s8_min_f), c='C0', ls='--')\n",
    "    for i in range(len(s8_min_r)):\n",
    "        ax2.hist(s8_min_r[i], alpha=0.6, density=True, color=f'C{i+1}', histtype='step', label=labels[i])#label=r'$\\mathrm{S}_8~$(TPCF$\\to$PS)')\n",
    "        ax2.axvline(np.nanmean(s8_min_r[i]), c=f'C{i+1}', ls='--')\n",
    "    ax2.set_xlim(0.7, 0.88)\n",
    "    ax2.xaxis.set_major_locator(majorLocator)\n",
    "    ax2.xaxis.set_major_formatter(majorFormatter)\n",
    "    ax2.tick_params(axis='both', which='major', \n",
    "                   length=8, width=1.1, labelsize=16, pad=10)\n",
    "    ax2.axvline(fid, c='red', ls='--')\n",
    "    ax2.legend(loc='upper left', fontsize=20)\n",
    "    ax2.set_xlabel(r'$S_8$', fontsize=20)\n",
    "    ax2.set_ylabel('N', fontsize=20)\n",
    "    if ret:\n",
    "        plt.close(fig)\n",
    "        return fig, ax, ax2\n",
    "default_label = r'$\\mathrm{S}_8~$(TPCF$\\to$PS)'"
   ]
  },
  {
   "cell_type": "markdown",
   "metadata": {},
   "source": [
    "# Load $C_\\ell$ from Halofit"
   ]
  },
  {
   "cell_type": "code",
   "execution_count": 4,
   "metadata": {},
   "outputs": [],
   "source": [
    "cl_t = fits.getdata('../data/cl.fits')"
   ]
  },
  {
   "cell_type": "markdown",
   "metadata": {},
   "source": [
    "# Load Coupling Matrices"
   ]
  },
  {
   "cell_type": "code",
   "execution_count": 5,
   "metadata": {},
   "outputs": [],
   "source": [
    "Mswp = np.zeros((npair, 8000, 8000))\n",
    "Mscp = fits.getdata('../data/M2p_taper_final.fits')\n",
    "Mscm = fits.getdata('../data/M2m_taper_final.fits')\n",
    "for c in range(npair):\n",
    "    Mswp[c] = fits.getdata(f'../data/Mswp_{c}.fits')"
   ]
  },
  {
   "cell_type": "code",
   "execution_count": 6,
   "metadata": {},
   "outputs": [],
   "source": [
    "def bin_2d_coupling(\n",
    "        M=[],\n",
    "        bin_utils=None,\n",
    "        wt_b=None,\n",
    "        wt0=None,\n",
    "        partial_bin_side=None,\n",
    "        lm=0,\n",
    "        lm_step=-1,\n",
    "        cov=False,\n",
    "    ):\n",
    "        ndim = 1\n",
    "        if cov:\n",
    "            ndim = 2\n",
    "        binning_mat = bin_utils[\"binning_mat\"]\n",
    "\n",
    "        if len(wt0.shape) == 1:\n",
    "            binning_mat2 = wt0[:, None] * binning_mat * wt_b\n",
    "        else:\n",
    "            binning_mat2 = (\n",
    "                wt0 @ binning_mat @ wt_b\n",
    "            ) \n",
    "\n",
    "        binning_mat = bin_utils[\"binning_mat_r_dr\"]\n",
    "        if partial_bin_side is None:\n",
    "            cov_b = binning_mat.T @ M @ binning_mat2\n",
    "        elif partial_bin_side == 1:\n",
    "            cov_b = binning_mat.T @ M @ binning_mat2[lm : lm + lm_step, :]\n",
    "        elif partial_bin_side == 2:\n",
    "            cov_b = binning_mat[lm : lm + lm_step, :].T @ M @ binning_mat2\n",
    "        return cov_b"
   ]
  },
  {
   "cell_type": "code",
   "execution_count": 7,
   "metadata": {},
   "outputs": [],
   "source": [
    "lmin_cl_Bins = 20\n",
    "lmax_cl_Bins = 3800\n",
    "Nl_bins = 20\n",
    "l_bins = np.linspace(lmin_cl_Bins, lmax_cl_Bins, Nl_bins+1)\n",
    "\n",
    "# For binning survey window coupling matrix\n",
    "sw_bu = binning()\n",
    "sw_bu = sw_bu.bin_utils(np.arange(8000), l_bins)\n",
    "\n",
    "cl_bu = binning()\n",
    "cl_bu = cl_bu.bin_utils(np.arange(7000), l_bins)"
   ]
  },
  {
   "cell_type": "markdown",
   "metadata": {},
   "source": [
    "# Load reconstruction from TPCF and PCL"
   ]
  },
  {
   "cell_type": "code",
   "execution_count": 38,
   "metadata": {},
   "outputs": [],
   "source": [
    "fits.writeto('../data/ell.fits', bc)"
   ]
  },
  {
   "cell_type": "code",
   "execution_count": 8,
   "metadata": {},
   "outputs": [],
   "source": [
    "bc = cl_bu['bin_center']\n",
    "w = (bc > 400) & (bc < 1800) # scale cut in ell space\n",
    "\n",
    "# shape of reconstruction is (number of mocks x number of tomo pairs x number of data points)\n",
    "cl_pcl = fits.getdata('../data/pcltocl_final_hscy1.fits')[:, :, w]\n",
    "cl_pcl_mean = np.mean(cl_pcl, axis=0)\n",
    "cl_pcl_dv = cl_pcl.reshape(cl_pcl.shape[0], -1)\n",
    "cov_pcl = np.cov(cl_pcl_dv, rowvar=False)\n",
    "cor_pcl = np.corrcoef(cl_pcl_dv, rowvar=False)\n",
    "\n",
    "cl_xi = fits.getdata('../data/xitocl_final_hscy1.fits')[:, :, w]\n",
    "cl_xi_mean = np.mean(cl_xi, axis=0)\n",
    "cl_xi_dv = cl_xi.reshape(cl_xi.shape[0], -1)\n",
    "cov_xi = np.cov(cl_xi_dv, rowvar=False)\n",
    "cor_xi = np.corrcoef(cl_xi_dv, rowvar=False)\n",
    "\n",
    "N = cl_pcl.shape[0]"
   ]
  },
  {
   "cell_type": "markdown",
   "metadata": {},
   "source": [
    "# Define useful mappings"
   ]
  },
  {
   "cell_type": "code",
   "execution_count": null,
   "metadata": {},
   "outputs": [],
   "source": [
    "# possible bin pairs (e.g. (0, 0), (2, 3))\n",
    "bp = list(itertools.combinations_with_replacement(range(ntomo), 2))\n",
    "print('bp', bp)\n",
    "\n",
    "# index to bin-pair (e.g. 0 -> (0, 0), 3 -> (0, 3))\n",
    "did = {i: pair for i, pair in enumerate(bp)}\n",
    "\n",
    "# bin-pair to index\n",
    "iid = {value:key for key, value in did.items()}\n",
    "\n",
    "# index to cov index\n",
    "ind = np.arange(w.sum() * npair).reshape(npair, w.sum())\n",
    "ind = {i: ind[i] for i in range(npair)}"
   ]
  },
  {
   "cell_type": "code",
   "execution_count": null,
   "metadata": {},
   "outputs": [],
   "source": [
    "start = {3:0, 2:1, 1:2, 0:3}\n",
    "fig, axs = plt.subplots(nrows=4, ncols=4, sharey='row', figsize=(20, 20))\n",
    "for i, row in enumerate(range(3, -1, -1)):\n",
    "    for j in range(4):\n",
    "        b = (i, j)\n",
    "        if j >= start[row]:\n",
    "            axs[row, j].semilogx(bc[w], cl_pcl_mean[iid[b]] / cl_xi_mean[iid[b]] - 1, '.')\n",
    "            axs[row, j].set_xscale('log')\n",
    "            axs[row, j].tick_params(axis='both', labelsize=20)\n",
    "            axs[row, j].set_xlim(500, 2350)\n",
    "            axs[row, j].set_ylim(-0.04, 0.04)\n",
    "            axs[row, j].axhline(-0.01, c='gray', ls='--')\n",
    "            axs[row, j].axhline(0.01, c='gray', ls='--')\n",
    "            axs[row, j].axhline(0, c='red', ls='--')\n",
    "            axs[row, j].axvspan(bc[0], 400, color='gray', alpha=0.3)\n",
    "            axs[row, j].axvspan(1800, 2350, color='gray', alpha=0.3)\n",
    "            axs[row, j].text(0.05, 0.8, f'{i+1}x{j+1}', fontfamily='serif', fontsize=15, transform=axs[row, j].transAxes)\n",
    "            c += 1\n",
    "        else: \n",
    "            axs[row, j].axis('off')\n",
    "plt.subplots_adjust(wspace=0, hspace=0)\n",
    "axs[3, 0].set_ylabel(r'$C^{F}_\\ell / C^{R}_\\ell - 1$', fontsize=22, fontfamily='serif');"
   ]
  },
  {
   "cell_type": "markdown",
   "metadata": {},
   "source": [
    "# Correlation matrix"
   ]
  },
  {
   "cell_type": "code",
   "execution_count": null,
   "metadata": {},
   "outputs": [],
   "source": [
    "fig, axs = plt.subplots(nrows=1, ncols=2, figsize=(30, 30))\n",
    "im1 = axs[0].imshow(cor_pcl, origin='lower', cmap='coolwarm', vmax=1., vmin=-1.)\n",
    "im2 = axs[1].imshow(cor_xi, origin='lower', cmap='coolwarm', vmax=1., vmin=-1.)\n",
    "plt.colorbar(im1, ax=axs[0], fraction=0.046, pad=0.04)\n",
    "plt.colorbar(im2, ax=axs[1], fraction=0.046, pad=0.04)\n",
    "# https://stackoverflow.com/questions/18195758/set-matplotlib-colorbar-size-to-match-graph"
   ]
  },
  {
   "cell_type": "markdown",
   "metadata": {},
   "source": [
    "# Ratio of covariance matrices"
   ]
  },
  {
   "cell_type": "code",
   "execution_count": null,
   "metadata": {},
   "outputs": [],
   "source": [
    "cmap='coolwarm'\n",
    "fig, axs = plt.subplots(nrows=1, ncols=1, figsize=(15, 15))\n",
    "im1 = axs.imshow(cov_pcl / cov_xi - 1, origin='lower', cmap='coolwarm')\n",
    "plt.colorbar(im1, ax=axs, fraction=0.046, pad=0.04)\n",
    "# https://stackoverflow.com/questions/18195758/set-matplotlib-colorbar-size-to-match-graph"
   ]
  },
  {
   "cell_type": "markdown",
   "metadata": {},
   "source": [
    "# Cross correlation"
   ]
  },
  {
   "cell_type": "code",
   "execution_count": null,
   "metadata": {},
   "outputs": [],
   "source": [
    "xticks_labels = [r'$C_{\\ell, F}^{0, 0}$',\n",
    "                 r'$C_{\\ell, F}^{0, 1}$',\n",
    "                 r'$C_{\\ell, F}^{0, 2}$',\n",
    "                 r'$C_{\\ell, F}^{0, 3}$',\n",
    "                 r'$C_{\\ell, F}^{1, 1}$',\n",
    "                 r'$C_{\\ell, F}^{1, 2}$',\n",
    "                 r'$C_{\\ell, F}^{1, 3}$',\n",
    "                 r'$C_{\\ell, F}^{2, 2}$',\n",
    "                 r'$C_{\\ell, F}^{2, 3}$',\n",
    "                 r'$C_{\\ell, F}^{3, 3}$',\n",
    "                 r'$C_{\\ell, F}^{0, 0}$',\n",
    "                 r'$C_{\\ell, F}^{0, 1}$',\n",
    "                 r'$C_{\\ell, F}^{0, 2}$',\n",
    "                 r'$C_{\\ell, F}^{0, 3}$',\n",
    "                 r'$C_{\\ell, F}^{1, 1}$',\n",
    "                 r'$C_{\\ell, F}^{1, 2}$',\n",
    "                 r'$C_{\\ell, F}^{1, 3}$',\n",
    "                 r'$C_{\\ell, F}^{2, 2}$',\n",
    "                 r'$C_{\\ell, F}^{2, 3}$',\n",
    "                 r'$C_{\\ell, F}^{3, 3}$',\n",
    "                ] \n",
    "xTticks_labels = [r'$C_{\\ell, F}^{0, 0}$',\n",
    "                 r'$C_{\\ell, F}^{0, 1}$',\n",
    "                 r'$C_{\\ell, F}^{0, 2}$',\n",
    "                 r'$C_{\\ell, F}^{0, 3}$',\n",
    "                 r'$C_{\\ell, F}^{1, 1}$',\n",
    "                 r'$C_{\\ell, F}^{1, 2}$',\n",
    "                 r'$C_{\\ell, F}^{1, 3}$',\n",
    "                 r'$C_{\\ell, F}^{2, 2}$',\n",
    "                 r'$C_{\\ell, F}^{2, 3}$',\n",
    "                 r'$C_{\\ell, F}^{3, 3}$',\n",
    "                 r'$C_{\\ell, R}^{0, 0}$',\n",
    "                 r'$C_{\\ell, R}^{0, 1}$',\n",
    "                 r'$C_{\\ell, R}^{0, 2}$',\n",
    "                 r'$C_{\\ell, R}^{0, 3}$',\n",
    "                 r'$C_{\\ell, R}^{1, 1}$',\n",
    "                 r'$C_{\\ell, R}^{1, 2}$',\n",
    "                 r'$C_{\\ell, R}^{1, 3}$',\n",
    "                 r'$C_{\\ell, R}^{2, 2}$',\n",
    "                 r'$C_{\\ell, R}^{2, 3}$',\n",
    "                 r'$C_{\\ell, R}^{3, 3}$',\n",
    "                ] \n",
    "yticks_labels = [r'$C_{\\ell, F}^{0, 0}$',\n",
    "                 r'$C_{\\ell, F}^{0, 1}$',\n",
    "                 r'$C_{\\ell, F}^{0, 2}$',\n",
    "                 r'$C_{\\ell, F}^{0, 3}$',\n",
    "                 r'$C_{\\ell, F}^{1, 1}$',\n",
    "                 r'$C_{\\ell, F}^{1, 2}$',\n",
    "                 r'$C_{\\ell, F}^{1, 3}$',\n",
    "                 r'$C_{\\ell, F}^{2, 2}$',\n",
    "                 r'$C_{\\ell, F}^{2, 3}$',\n",
    "                 r'$C_{\\ell, F}^{3, 3}$',\n",
    "                 r'$C_{\\ell, R}^{0, 0}$',\n",
    "                 r'$C_{\\ell, R}^{0, 1}$',\n",
    "                 r'$C_{\\ell, R}^{0, 2}$',\n",
    "                 r'$C_{\\ell, R}^{0, 3}$',\n",
    "                 r'$C_{\\ell, R}^{1, 1}$',\n",
    "                 r'$C_{\\ell, R}^{1, 2}$',\n",
    "                 r'$C_{\\ell, R}^{1, 3}$',\n",
    "                 r'$C_{\\ell, R}^{2, 2}$',\n",
    "                 r'$C_{\\ell, R}^{2, 3}$',\n",
    "                 r'$C_{\\ell, R}^{3, 3}$',\n",
    "                ] \n",
    "yRticks_labels = [r'$C_{\\ell, R}^{0, 0}$',\n",
    "                 r'$C_{\\ell, R}^{0, 1}$',\n",
    "                 r'$C_{\\ell, R}^{0, 2}$',\n",
    "                 r'$C_{\\ell, R}^{0, 3}$',\n",
    "                 r'$C_{\\ell, R}^{1, 1}$',\n",
    "                 r'$C_{\\ell, R}^{1, 2}$',\n",
    "                 r'$C_{\\ell, R}^{1, 3}$',\n",
    "                 r'$C_{\\ell, R}^{2, 2}$',\n",
    "                 r'$C_{\\ell, R}^{2, 3}$',\n",
    "                 r'$C_{\\ell, R}^{3, 3}$',\n",
    "                 r'$C_{\\ell, R}^{0, 0}$',\n",
    "                 r'$C_{\\ell, R}^{0, 1}$',\n",
    "                 r'$C_{\\ell, R}^{0, 2}$',\n",
    "                 r'$C_{\\ell, R}^{0, 3}$',\n",
    "                 r'$C_{\\ell, R}^{1, 1}$',\n",
    "                 r'$C_{\\ell, R}^{1, 2}$',\n",
    "                 r'$C_{\\ell, R}^{1, 3}$',\n",
    "                 r'$C_{\\ell, R}^{2, 2}$',\n",
    "                 r'$C_{\\ell, R}^{2, 3}$',\n",
    "                 r'$C_{\\ell, R}^{3, 3}$',\n",
    "                ] "
   ]
  },
  {
   "cell_type": "code",
   "execution_count": null,
   "metadata": {},
   "outputs": [],
   "source": [
    "cross_corr = np.corrcoef(cl_pcl_dv, cl_xi_dv, rowvar=False)\n",
    "fig, ax = plt.subplots(1, 1, figsize=(25, 25))\n",
    "cross_corr_im = ax.imshow(cross_corr, origin='lower', cmap='coolwarm', vmin=-1., vmax=1.)\n",
    "axT = ax.secondary_xaxis('top')\n",
    "axR = ax.secondary_yaxis('right')\n",
    "plt.colorbar(cross_corr_im, ax=ax, fraction=0.046, pad=0.04)\n",
    "ax.axvline(x=w.sum()*npair-0.5, c='black', linewidth=5, ls='--')\n",
    "ax.axhline(y=w.sum()*npair-0.5, c='black', linewidth=5, ls='--')\n",
    "ax.tick_params(axis='both', pad=3, length=0)\n",
    "axR.tick_params(axis='y', pad=3, length=0)\n",
    "axT.tick_params(axis='x', pad=3, length=0)\n",
    "ax.set_xticks(ticks=np.arange(w.sum()/2, w.sum()*npair*2, w.sum()), labels=xticks_labels, fontsize=20);\n",
    "ax.set_yticks(ticks=np.arange(w.sum()/2, w.sum()*npair*2, w.sum()), labels=yticks_labels, fontsize=20);\n",
    "axT.set_xticks(ticks=np.arange(w.sum()/2, w.sum()*npair*2, w.sum()), labels=xTticks_labels, fontsize=20);\n",
    "axR.set_yticks(ticks=np.arange(w.sum()/2, w.sum()*npair*2, w.sum()), labels=yRticks_labels, fontsize=20);"
   ]
  },
  {
   "cell_type": "code",
   "execution_count": null,
   "metadata": {},
   "outputs": [],
   "source": [
    "fig, axs = plt.subplots(nrows=4, ncols=4, sharey='all', sharex=True, figsize=(25, 25))\n",
    "for i in range(4):\n",
    "    for j in range(i, 4):\n",
    "        b = (i, j)\n",
    "        axs[i, j].loglog(bc[w], np.diag(cov_pcl)[ind[iid[b]]], label=r'$F_\\ell$')\n",
    "        axs[i, j].loglog(bc[w], np.diag(cov_xi)[ind[iid[b]]], label=r'$\\xi$')\n",
    "        axs[i, j].set_xscale('log')\n",
    "        axs[i, j].set_xlabel(r'$\\ell_\\mathrm{max}$', fontsize=22)\n",
    "        axs[i, j].set_ylabel(r'Diagonal of Cov', fontsize=22)\n",
    "        axs[i, j].tick_params(axis='both', labelsize=20)\n",
    "        axs[i, j].set_title(f'{i}, {j}')\n",
    "        axs[i, j].legend(loc='upper left', fontsize=22)\n",
    "    for j in range(i):\n",
    "        axs[i, j].axis('off')"
   ]
  },
  {
   "cell_type": "code",
   "execution_count": null,
   "metadata": {},
   "outputs": [],
   "source": [
    "def get_err(cov):\n",
    "    return np.sqrt(np.diag(cov))\n",
    "def corr_mat(cov):\n",
    "    err=get_err(cov)\n",
    "    return cov/np.outer(err,err)\n",
    "\n",
    "def matrix_cut(mat=[],x=[]):\n",
    "    m=mat[x]\n",
    "    N=sum(x)\n",
    "    m2=np.zeros((N,N))\n",
    "    j=0\n",
    "    for i in m:\n",
    "        m2[j]=i[x]\n",
    "        j=j+1\n",
    "    return m2\n",
    "\n",
    "def SN_cum(cov=[],lb=[],cl=[],diag=False,lmin=2,lmax=1e4,use_hartlap=False,nsim=1000):\n",
    "    sni=np.zeros_like(lb)\n",
    "    for i in np.arange(len(lb)):\n",
    "        if lb[i]<lmin or lb[i]>lmax:\n",
    "            continue\n",
    "        x=lb<=lb[i]\n",
    "        x*=lb>lmin\n",
    "        cov2_cut=matrix_cut(mat=cov,x=x)\n",
    "        if diag:\n",
    "            cov2_cut=np.diag(np.diag(cov2_cut))\n",
    "        cov2_cut_inv=np.linalg.inv(cov2_cut)\n",
    "        \n",
    "        cl_i=cl[x]\n",
    "        SN2=cl_i@cov2_cut_inv@cl_i\n",
    "        if use_hartlap:\n",
    "            SN2*=(nsim-2-x.sum())/(nsim-1)\n",
    "        sni[i]=SN2\n",
    "    return np.sqrt(sni)"
   ]
  },
  {
   "cell_type": "code",
   "execution_count": null,
   "metadata": {},
   "outputs": [],
   "source": [
    "sn_pcl = np.zeros((npair, w.sum()))\n",
    "sn_xi = np.zeros((npair, w.sum()))\n",
    "for c in range(npair):\n",
    "    sn_pcl[c] = SN_cum(cov=cov_pcl[ind[c], :][:, ind[c]], lb=bc[w], cl=cl_pcl_mean[c])\n",
    "    sn_xi[c] = SN_cum(cov=cov_xi[ind[c], :][:, ind[c]], lb=bc[w], cl=cl_xi_mean[c])\n",
    "    \n",
    "fig, axs = plt.subplots(nrows=4, ncols=4, sharey='all', sharex=True, figsize=(25, 25))\n",
    "for i in range(4):\n",
    "    for j in range(i, 4):\n",
    "        b = (i, j)\n",
    "        axs[i, j].loglog(bc[w], sn_pcl[iid[b]], label=r'$F_\\ell$')\n",
    "        axs[i, j].loglog(bc[w], sn_xi[iid[b]], label=r'$\\xi$')\n",
    "        axs[i, j].set_xscale('log')\n",
    "        axs[i, j].set_xlabel(r'$\\ell_\\mathrm{max}$', fontsize=22)\n",
    "        axs[i, j].set_ylabel(r'$S/N(\\ell_\\mathrm{max})$', fontsize=22)\n",
    "        axs[i, j].tick_params(axis='both', labelsize=20)\n",
    "        axs[i, j].set_title(f'{i}, {j}')\n",
    "        axs[i, j].legend(loc='upper left', fontsize=22)\n",
    "    for j in range(i):\n",
    "        axs[i, j].axis('off')"
   ]
  },
  {
   "cell_type": "code",
   "execution_count": null,
   "metadata": {},
   "outputs": [],
   "source": [
    "mocks = np.random.randint(0, high=N, size=3)\n",
    "start = {3:0, 2:1, 1:2, 0:3}\n",
    "shift = 1.05\n",
    "for mock in mocks:\n",
    "    fig, axs = plt.subplots(nrows=4, ncols=4, sharey='row', sharex='col', figsize=(20, 20))\n",
    "    for i, row in enumerate(range(3, -1, -1)):\n",
    "        for j in range(4):\n",
    "            b = (i, j)\n",
    "            if j >= start[row]:\n",
    "                std_pcl = np.sqrt(np.diag(cov_pcl[ind[iid[b]], :][:, ind[iid[b]]]))\n",
    "                std_xi = np.sqrt(np.diag(cov_xi[ind[c], :][:, ind[c]]))\n",
    "                axs[row, j].semilogx(bc[w], cl_pcl[mock, c] / cl_xi[mock, c] - 1, '.', c='C0', ms=5, label=r'$C_\\ell^{F_\\ell}$')\n",
    "                axs[row, j].axhline(0, c='red')\n",
    "                axs[row, j].axhline(0.01, c='gray', ls='--')\n",
    "                axs[row, j].axhline(-0.01, c='gray', ls='--')\n",
    "                axs[row, j].semilogx()\n",
    "                axs[row, j].tick_params(axis='both', labelsize=20)\n",
    "                axs[row, j].set_xlim(500, 2350)\n",
    "                axs[row, j].axvspan(bc[w][0]-100, bc[w][0], color='gray', alpha=0.3)\n",
    "                axs[row, j].axvspan(bc[w][-1], 2350, color='gray', alpha=0.3)\n",
    "                axs[row, j].text(0.05, 0.8, f'{i+1}x{j+1}', fontfamily='serif', fontsize=15, transform=axs[row, j].transAxes)\n",
    "                axs[row, j].tick_params(axis='both', direction='in', which='major', length=15)\n",
    "                axs[row, j].tick_params(axis='both', direction='in', which='minor', length=7)\n",
    "                axs[row, j].xaxis.set_major_locator(ticker.MultipleLocator(1000))\n",
    "                axs[row, j].xaxis.set_minor_locator(ticker.MultipleLocator(200))\n",
    "                axs[row, j].xaxis.set_minor_formatter('')\n",
    "                axs[row, j].xaxis.set_major_formatter(ticker.ScalarFormatter(useMathText=True))\n",
    "                axs[row, j].xaxis.set_ticks_position('both')\n",
    "                axs[row, j].yaxis.set_ticks_position('both')\n",
    "                axs[row, j].yaxis.set_minor_locator(ticker.LogLocator(base=10, subs=np.arange(2, 10) * 0.1))\n",
    "                axs[row, j].yaxis.set_major_formatter(ticker.FuncFormatter(lambda y, _: '{:g}'.format(y)))\n",
    "                axs[row, j].yaxis.set_minor_formatter('')\n",
    "                axs[row, j].set_ylim(-0.1, 0.1)\n",
    "            else: \n",
    "                axs[row, j].axis('off')\n",
    "\n",
    "    axs[2, 2].legend(bbox_to_anchor=(-1, 2), \n",
    "                     loc='upper left', numpoints=1, frameon=False,\n",
    "                    fontsize=22, markerscale=10)\n",
    "    plt.subplots_adjust(wspace=0, hspace=0)\n",
    "    for i in range(4):\n",
    "        axs[i, start[i]].tick_params(axis='y', which='major', reset=True, labelsize=15)\n",
    "        axs[i, start[i]].tick_params(axis='both', direction='in', which='major', length=12)\n",
    "        axs[i, start[i]].tick_params(axis='both', direction='in', which='minor', length=4)\n",
    "    axs[3, 0].set_xlabel(r'$\\ell$', fontsize=22, fontfamily='serif')"
   ]
  },
  {
   "cell_type": "code",
   "execution_count": null,
   "metadata": {},
   "outputs": [],
   "source": [
    "cross_corr = np.corrcoef(cl_xi_dv, cl_pcl_dv, rowvar=False)\n",
    "one_corr = np.tile(cor_xi, (2, 2))\n",
    "plt.figure(figsize=(20, 20))\n",
    "cross_corr_im = plt.imshow(cross_corr - one_corr, origin='lower', cmap='coolwarm', vmin=-0.1, vmax=0.1)\n",
    "plt.colorbar(cross_corr_im, ax=plt.gca(), fraction=0.046, pad=0.04)"
   ]
  },
  {
   "cell_type": "markdown",
   "metadata": {},
   "source": [
    "# Load S8 grid and their corresponding $C_\\ell, D_\\ell, F_\\ell, \\xi^\\pm$"
   ]
  },
  {
   "cell_type": "code",
   "execution_count": null,
   "metadata": {},
   "outputs": [],
   "source": [
    "ngrid = 1000\n",
    "s8_grid = np.linspace(0.4, 1.2, ngrid)\n",
    "cells = fits.getdata('../data/cells_grid.fits')\n",
    "pells = fits.getdata('../data/pells.fits')\n",
    "fells = fits.getdata('../data/fells.fits')\n",
    "\n",
    "cells_b = bin_1d(cells[:, :, :7000], cl_bu)\n",
    "fells_b = bin_1d(fells, cl_bu)"
   ]
  },
  {
   "cell_type": "code",
   "execution_count": null,
   "metadata": {},
   "outputs": [],
   "source": [
    "Mswp_b = np.zeros((npair, Nl_bins, Nl_bins))\n",
    "Mscp_b = np.zeros_like(Mswp_b)\n",
    "for c in range(npair):\n",
    "    Mscp_b[c] = bin_2d_coupling(Mscp, cl_bu, wt_b=1./bin_1d(cl_t[c, :7000], cl_bu), wt0=cl_t[c, :7000])\n",
    "    Mswp_b[c] = bin_2d_coupling(Mswp[c], sw_bu, wt_b=1./bin_1d(cl_t[c, :8000], sw_bu), wt0=cl_t[c, :8000])"
   ]
  },
  {
   "cell_type": "markdown",
   "metadata": {},
   "source": [
    "# Reconstruct $C_\\ell$ from theory $F_\\ell$"
   ]
  },
  {
   "cell_type": "code",
   "execution_count": null,
   "metadata": {},
   "outputs": [],
   "source": [
    "rcells_fb = np.einsum('cij,gcj->gci', np.linalg.pinv(Mscp_b @ Mswp_b), fells_b)"
   ]
  },
  {
   "cell_type": "code",
   "execution_count": null,
   "metadata": {},
   "outputs": [],
   "source": [
    "M2p_final = np.zeros((npair, 8000, 8000))\n",
    "M2m_final = np.zeros((npair, 8000, 8000))\n",
    "for c in range(npair):\n",
    "    M2p_final[c] = fits.getdata(f'../data/M2p_{c}.fits')\n",
    "    M2m_final[c] = fits.getdata(f'../data/M2m_{c}.fits')\n",
    "xi_w = fits.getdata('../data/window_xi.fits')"
   ]
  },
  {
   "cell_type": "code",
   "execution_count": null,
   "metadata": {},
   "outputs": [],
   "source": [
    "def taper(l=[], large_l_lower=1000, large_l_upper=1500, low_l_lower=10, low_l_upper=50):\n",
    "    taper_f = np.zeros_like(l, dtype=\"float64\")\n",
    "    x = l > large_l_lower\n",
    "    taper_f[x] = np.cos(\n",
    "        (l[x] - large_l_lower) / (large_l_upper - large_l_lower) * np.pi / 2.0\n",
    "    )\n",
    "    x = np.logical_and(l <= large_l_lower, l >= low_l_upper)\n",
    "    taper_f[x] = 1\n",
    "    x = l < low_l_upper\n",
    "    taper_f[x] = np.cos(\n",
    "        (l[x] - low_l_upper) / (low_l_upper - low_l_lower) * np.pi / 2.0\n",
    "    )\n",
    "\n",
    "    x = np.logical_or(l <= low_l_lower, l >= large_l_upper)\n",
    "    taper_f[x] = 0\n",
    "    taper_f = {\"taper_f\": taper_f, \"l\": l}\n",
    "    return taper_f\n",
    "\n",
    "def bin_2d_inv_WT(\n",
    "        wig_mat=[],\n",
    "        wig_norm=None,\n",
    "        bin_utils_xi=None,\n",
    "        bin_utils_cl=None,\n",
    "        wt_b=None,\n",
    "        wt0=None,\n",
    "        use_binned_l=False,\n",
    "        win_xi=None,\n",
    "    ):\n",
    "\n",
    "        wig_mat = wig_mat.T * wig_norm\n",
    "        #bin_win_xi = np.dot(win_xi * bin_utils_xi['r_dr'], bin_utils_xi['binning_mat'])/bin_utils_xi['norm']\n",
    "        if bin_utils_xi is not None:\n",
    "            binning_mat_xi = bin_utils_xi[\"binning_mat\"]\n",
    "            if wt_b is None:\n",
    "                wt_b = bin_utils_xi[\"wt_b\"]\n",
    "            if wt0 is None:\n",
    "                wt0 = bin_utils_xi[\"wt0\"]\n",
    "            if len(wt0.shape) == 1:\n",
    "                binning_mat_xi2 = wt0[:, None] * binning_mat_xi / win_xi[:, None] * wt_b\n",
    "            else:\n",
    "                binning_mat_xi2 = wt0 @ binning_mat_xi @ wt_b  # FIXME: Test this.\n",
    "\n",
    "            wm = wig_mat @ binning_mat_xi2\n",
    "\n",
    "        else:\n",
    "            wm = wig_mat\n",
    "\n",
    "        wig_mat_b = wm\n",
    "        if bin_utils_cl is not None and use_binned_l:\n",
    "            bin_mat_cl = bin_utils_cl[\"binning_mat\"]\n",
    "\n",
    "            rdr = bin_utils_cl[\"r_dr\"]\n",
    "            bin_mat_cl = bin_mat_cl * rdr[:, None] / bin_utils_cl[\"norm\"][None, :]\n",
    "\n",
    "            wig_mat_b = bin_mat_cl.T @ wm\n",
    "        return wig_mat_b\n",
    "\n",
    "cor = treecorr.GGCorrelation(nbins=2400, min_sep=0.25,max_sep=360*2,sep_units='arcmin')\n",
    "meanr = cor.rnom\n",
    "corrs=[corr_ll]\n",
    "corr=corrs[0]\n",
    "s=s1_s2s[corr]\n",
    " \n",
    "WT_kwargs = {\n",
    "    'l': np.arange(8000), 'l_cut_weights': None, 'theta': meanr/60 * d2r, 's1_s2': [(0, 0), (2, 2), (2, -2)],\n",
    "    'wig_d_taper_order_low': None, 'wid_d_taper_order_high': None\n",
    "}\n",
    "WT = wigner_transform(**WT_kwargs)\n",
    "WT.gather_data()\n",
    "taper_f = taper(meanr, low_l_lower=meanr[0], low_l_upper=10, large_l_lower=320, large_l_upper=360)['taper_f']"
   ]
  },
  {
   "cell_type": "markdown",
   "metadata": {},
   "source": [
    "# Get theory $\\xi^\\pm$"
   ]
  },
  {
   "cell_type": "code",
   "execution_count": null,
   "metadata": {},
   "outputs": [],
   "source": [
    "xi_p = np.zeros((npair, 2400))\n",
    "xi_m = np.zeros((npair, 2400))\n",
    "l_xi = np.arange(8000)\n",
    "for i in range(4):\n",
    "    for j in range(i, 4):\n",
    "        b = (i, j)\n",
    "        xi_p[iid[b]] = WT.projected_correlation(l_xi, cl_t[iid[b], :8000], s1_s2=(2, 2))[1]\n",
    "        xi_m[iid[b]] = WT.projected_correlation(l_xi, cl_t[iid[b], :8000], s1_s2=(2, -2))[1]\n",
    "xips = fits.getdata('../data/cltoxip.fits')\n",
    "xims = fits.getdata('../data/cltoxim.fits')"
   ]
  },
  {
   "cell_type": "code",
   "execution_count": null,
   "metadata": {},
   "outputs": [],
   "source": [
    "th = meanr\n",
    "theta_min = 0.25\n",
    "theta_max = 480\n",
    "theta_max = 380\n",
    "Nt_bins = 200\n",
    "theta_bins = np.linspace(theta_min, theta_max, Nt_bins+1)\n",
    "xi_bu = binning()\n",
    "xi_bu = xi_bu.bin_utils(th, theta_bins)"
   ]
  },
  {
   "cell_type": "code",
   "execution_count": null,
   "metadata": {},
   "outputs": [],
   "source": [
    "Hp = np.zeros((10, Nl_bins, Nt_bins))\n",
    "Hm = np.zeros_like(Hp)\n",
    "M2p_final_b = np.zeros((10, Nl_bins, Nl_bins))\n",
    "for c in range(10):\n",
    "    Hp[c] = bin_2d_inv_WT(wig_mat=WT.wig_d[(2, 2)], wig_norm=WT.inv_wig_norm*xi_w[c],\n",
    "                 bin_utils_xi=xi_bu, bin_utils_cl=sw_bu, wt_b=1./bin_1d(xi_p[c], xi_bu), wt0=xi_p[c],\n",
    "                  use_binned_l=True, win_xi=xi_w[c]\n",
    "                 )\n",
    "    Hm[c] = bin_2d_inv_WT(wig_mat=WT.wig_d[(2, -2)], wig_norm=WT.inv_wig_norm*xi_w[c],\n",
    "                 bin_utils_xi=xi_bu, bin_utils_cl=sw_bu, wt_b=1./bin_1d(xi_m[c], xi_bu), wt0=xi_m[c],\n",
    "                  use_binned_l=True, win_xi=xi_w[c]\n",
    "                 )\n",
    "    M2p_final_b[c] = bin_2d_coupling(M=M2p_final[c], \n",
    "                                     bin_utils=sw_bu, wt_b=1./bin_1d(cl_t[c, :8000], sw_bu), wt0=cl_t[c, :8000])"
   ]
  },
  {
   "cell_type": "markdown",
   "metadata": {},
   "source": [
    "# Reconstruct $C_\\ell$ from theory $\\xi^\\pm$"
   ]
  },
  {
   "cell_type": "code",
   "execution_count": null,
   "metadata": {},
   "outputs": [],
   "source": [
    "xips_b = bin_1d(xips * taper_f * xi_w[None, :, :], xi_bu)\n",
    "xims_b = bin_1d(xims * taper_f * xi_w[None, :, :], xi_bu)\n",
    "dells = 0.5 * (np.einsum('clt, nct -> ncl', Hp, xips_b) + np.einsum('clt, nct -> ncl', Hm, xims_b))\n",
    "rcells_rb = np.einsum('cij, ncj -> nci', np.linalg.pinv(M2p_final_b), dells)"
   ]
  },
  {
   "cell_type": "markdown",
   "metadata": {},
   "source": [
    "# Run S8 Inference"
   ]
  },
  {
   "cell_type": "code",
   "execution_count": null,
   "metadata": {},
   "outputs": [],
   "source": [
    "runs = N * 1\n",
    "runs = 100\n",
    "diff_f = (rcells_fb[:, None, :, w] - cl_pcl[None, :runs, :, :]).reshape(1000, runs, -1)\n",
    "diff_r = (rcells_rb[:, None, :, w] - cl_xi[None, :runs, :, :]).reshape(1000, runs, -1)\n",
    "chi2_f = np.einsum('gni, ij, jng -> gn', diff_f, np.linalg.pinv(cov_pcl), diff_f.transpose(2, 1, 0))\n",
    "chi2_r = np.einsum('gni, ij, jng -> gn', diff_r, np.linalg.pinv(cov_xi), diff_r.transpose(2, 1, 0))\n",
    "s8_min_f = s8_grid[np.argmin(chi2_f, axis=0)]\n",
    "s8_min_r = s8_grid[np.argmin(chi2_r, axis=0)]\n",
    "plot_scatter([s8_min_f], [s8_min_r], labels=[default_label])"
   ]
  },
  {
   "cell_type": "markdown",
   "metadata": {},
   "source": [
    "# Forward model the fiducial theory"
   ]
  },
  {
   "cell_type": "code",
   "execution_count": null,
   "metadata": {},
   "outputs": [],
   "source": [
    "pcl_t = np.einsum('cij, cj -> ci', Mswp, cl_t[:, :8000])\n",
    "fcl_t = np.einsum('ij, cj -> ci', Mscp, pcl_t[:, :7000])\n",
    "cl_tb_pcl = np.einsum('cij,cj->ci', np.linalg.pinv(Mscp_b @ Mswp_b), bin_1d(fcl_t, cl_bu))"
   ]
  },
  {
   "cell_type": "code",
   "execution_count": null,
   "metadata": {},
   "outputs": [],
   "source": [
    "xi_pb = bin_1d(xi_p * taper_f * xi_w, xi_bu)\n",
    "xi_mb = bin_1d(xi_m * taper_f * xi_w, xi_bu)\n",
    "dcl_t = 0.5 * (np.einsum('clt, ct -> cl', Hp, xi_pb) + np.einsum('clt, ct -> cl', Hm, xi_mb))\n",
    "cl_tb_xi = np.einsum('cij, cj -> ci', np.linalg.pinv(M2p_final_b), dcl_t)"
   ]
  },
  {
   "cell_type": "markdown",
   "metadata": {},
   "source": [
    "# Add shape noise to covariance"
   ]
  },
  {
   "cell_type": "code",
   "execution_count": null,
   "metadata": {},
   "outputs": [],
   "source": [
    "fig, axs = plt.subplots(nrows=2, ncols=5, figsize=(35, 10))\n",
    "axs = axs.flatten()\n",
    "for b in range(10):\n",
    "    axs[b].semilogx(bc[w], cl_pcl_mean[b] / cl_tb_pcl[b, w] - 1, c='blue', label=r'$F_\\ell$')\n",
    "    axs[b].semilogx(bc[w], cl_xi_mean[b] / cl_tb_xi[b, w] - 1, c='orange', label=r'$\\xi$')\n",
    "    axs[b].axhline(0, c='red', ls='--')\n",
    "    axs[b].tick_params(axis='both', which='major', labelsize=16)\n",
    "    i, j = did[b]\n",
    "    axs[b].text(0.85, 0.90, f'{i+1}x{j+1}', transform=axs[b].transAxes, fontsize=16)\n",
    "    if b == 0:\n",
    "        axs[b].legend(fontsize=16, loc='lower left')\n",
    "    axs[b].set_xlabel(r'$\\ell$', fontsize=17)\n",
    "    axs[b].set_ylim(-0.1, 0.1)\n",
    "    axs[b].axhline(-0.02, c='gray')\n",
    "    axs[b].axhline(0.02, c='gray')\n",
    "axs[0].set_ylabel(r'$\\frac{\\hat{C}_\\ell}{C_\\ell} - 1$', fontsize=22);\n",
    "axs[5].set_ylabel(r'$\\frac{\\hat{C}_\\ell}{C_\\ell} - 1$', fontsize=22);"
   ]
  },
  {
   "cell_type": "code",
   "execution_count": null,
   "metadata": {},
   "outputs": [],
   "source": [
    "def _shape_noise_cov_block(cl, i, j, m, n, sn, size):\n",
    "    cov = np.zeros(size)\n",
    "    if j == n:\n",
    "        cov += cl[ind[iid[(i, m)]]] * sn[j]\n",
    "    if i == m:\n",
    "        cov += cl[ind[iid[(j, n)]]] * sn[i]\n",
    "    if i == m and j == n:\n",
    "        cov += sn[i] * sn[j]\n",
    "    if j == m:\n",
    "        cov += cl[ind[iid[(i, n)]]] * sn[j]\n",
    "    if i == n:\n",
    "        cov += cl[ind[iid[(j, m)]]] * sn[i]\n",
    "    if i == n and j == m:\n",
    "        cov += sn[i] * sn[j]\n",
    "    return np.diag(cov)\n",
    "\n",
    "def shape_noise_cov(cl, sn, size, norm):\n",
    "    cov = np.zeros((10 * size, 10 * size))\n",
    "    for row in range(10):\n",
    "        for col in range(row, 10):\n",
    "            i, j = did[row]\n",
    "            m, n = did[col]\n",
    "            cov[row*w.sum():(row+1)*w.sum(), col*w.sum():(col+1)*w.sum()] = _shape_noise_cov_block(cl, i, j, m, n, sn, size) * norm\n",
    "    return cov"
   ]
  },
  {
   "cell_type": "code",
   "execution_count": null,
   "metadata": {},
   "outputs": [],
   "source": [
    "cl_pcl_mean_dv = cl_pcl_mean.reshape(-1)\n",
    "cl_xi_mean_dv = cl_xi_mean.reshape(-1)\n",
    "\n",
    "sigma_e = 0.25\n",
    "dim = (60 * 180 / np.pi) ** 2 # per rad^2\n",
    "n_eff = np.array([3.77, 5.07, 4.00, 2.12]) * dim # per arcmin^2\n",
    "\n",
    "shape_noise =  sigma_e ** 2 / 2. / n_eff\n",
    "SN_cov_norm = 4 * np.pi / (f_sky * (2 * bc[w] + 1) * np.gradient(bc[w]))\n",
    "\n",
    "SN_cov_pcl = shape_noise_cov(cl_pcl_mean_dv, shape_noise, w.sum(), SN_cov_norm)\n",
    "SN_cov_pcl = SN_cov_pcl + SN_cov_pcl.T - np.diag(np.diag(SN_cov_pcl))\n",
    "\n",
    "SN_cov_xi = shape_noise_cov(cl_xi_mean_dv, shape_noise, w.sum(), SN_cov_norm)\n",
    "SN_cov_xi = SN_cov_xi + SN_cov_xi.T - np.diag(np.diag(SN_cov_xi))\n",
    "\n",
    "new_cov_pcl = cov_pcl + SN_cov_pcl\n",
    "new_cov_xi = cov_xi + SN_cov_xi"
   ]
  },
  {
   "cell_type": "code",
   "execution_count": null,
   "metadata": {},
   "outputs": [],
   "source": [
    "fig, axs = plt.subplots(nrows=2, ncols=5, figsize=(35, 10), sharey=True)\n",
    "axs = axs.flatten()\n",
    "for b in range(10):\n",
    "    axs[b].loglog(bc[w], np.diag(new_cov_pcl[ind[b], :][:, ind[b]]), c='blue', label=r'$F_\\ell$ with SN')\n",
    "    axs[b].loglog(bc[w], np.diag(cov_pcl[ind[b], :][:, ind[b]]), ls='--', c='blue', label=r'$F_\\ell$ without SN')\n",
    "    axs[b].loglog(bc[w], np.diag(new_cov_xi[ind[b], :][:, ind[b]]), c='orange', label=r'$\\xi$ with SN')\n",
    "    axs[b].loglog(bc[w], np.diag(cov_xi[ind[b], :][:, ind[b]]), ls='--', c='orange', label=r'$\\xi$ without SN')\n",
    "    axs[b].tick_params(axis='both', which='major', labelsize=16)\n",
    "    i, j = did[b]\n",
    "    axs[b].text(0.85, 0.90, f'{i+1}x{j+1}', transform=axs[b].transAxes, fontsize=16)\n",
    "    if b == 0:\n",
    "        axs[b].legend(fontsize=16, loc='lower left')\n",
    "    axs[b].set_xlabel(r'$\\ell$', fontsize=17)"
   ]
  },
  {
   "cell_type": "code",
   "execution_count": null,
   "metadata": {},
   "outputs": [],
   "source": [
    "runs = N * 1.\n",
    "runs = N\n",
    "diff_f = (rcells_fb[:, None, :, w] - cl_pcl[None, :runs, :, :]).reshape(1000, runs, -1)\n",
    "diff_r = (rcells_rb[:, None, :, w] - cl_xi[None, :runs, :, :]).reshape(1000, runs, -1)\n",
    "chi2_f = np.einsum('gni, ij, jng -> gn', diff_f, np.linalg.pinv(new_cov_pcl), diff_f.transpose(2, 1, 0))\n",
    "chi2_r = np.einsum('gni, ij, jng -> gn', diff_r, np.linalg.pinv(new_cov_xi), diff_r.transpose(2, 1, 0))\n",
    "s8_min_f = s8_grid[np.argmin(chi2_f, axis=0)]\n",
    "s8_min_r = s8_grid[np.argmin(chi2_r, axis=0)]\n",
    "plot_scatter([s8_min_f], [s8_min_r], labels=[default_label], ret=False)"
   ]
  },
  {
   "cell_type": "code",
   "execution_count": null,
   "metadata": {},
   "outputs": [],
   "source": []
  }
 ],
 "metadata": {
  "kernelspec": {
   "display_name": "skylens",
   "language": "python",
   "name": "skylens"
  },
  "language_info": {
   "codemirror_mode": {
    "name": "ipython",
    "version": 3
   },
   "file_extension": ".py",
   "mimetype": "text/x-python",
   "name": "python",
   "nbconvert_exporter": "python",
   "pygments_lexer": "ipython3",
   "version": "3.9.12"
  }
 },
 "nbformat": 4,
 "nbformat_minor": 4
}
